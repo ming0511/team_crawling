{
  "nbformat": 4,
  "nbformat_minor": 0,
  "metadata": {
    "colab": {
      "name": "team.ipynb",
      "provenance": [],
      "collapsed_sections": [],
      "authorship_tag": "ABX9TyOQmX7pfw2AqIUr1nReN7+U",
      "include_colab_link": true
    },
    "kernelspec": {
      "name": "python3",
      "display_name": "Python 3"
    },
    "language_info": {
      "name": "python"
    }
  },
  "cells": [
    {
      "cell_type": "markdown",
      "metadata": {
        "id": "view-in-github",
        "colab_type": "text"
      },
      "source": [
        "<a href=\"https://colab.research.google.com/github/ming0511/team_crawling/blob/main/team.ipynb\" target=\"_parent\"><img src=\"https://colab.research.google.com/assets/colab-badge.svg\" alt=\"Open In Colab\"/></a>"
      ]
    },
    {
      "cell_type": "code",
      "source": [
        "!pip install beautifulsoup4\n",
        "!pip install requests"
      ],
      "metadata": {
        "colab": {
          "base_uri": "https://localhost:8080/"
        },
        "id": "eYRY8j34Gum_",
        "outputId": "c9cadfb8-4ddc-4fdf-882b-f33e9f2ba41a"
      },
      "execution_count": null,
      "outputs": [
        {
          "output_type": "stream",
          "name": "stdout",
          "text": [
            "Requirement already satisfied: beautifulsoup4 in /usr/local/lib/python3.7/dist-packages (4.6.3)\n",
            "Requirement already satisfied: requests in /usr/local/lib/python3.7/dist-packages (2.23.0)\n",
            "Requirement already satisfied: certifi>=2017.4.17 in /usr/local/lib/python3.7/dist-packages (from requests) (2021.10.8)\n",
            "Requirement already satisfied: chardet<4,>=3.0.2 in /usr/local/lib/python3.7/dist-packages (from requests) (3.0.4)\n",
            "Requirement already satisfied: urllib3!=1.25.0,!=1.25.1,<1.26,>=1.21.1 in /usr/local/lib/python3.7/dist-packages (from requests) (1.24.3)\n",
            "Requirement already satisfied: idna<3,>=2.5 in /usr/local/lib/python3.7/dist-packages (from requests) (2.10)\n"
          ]
        }
      ]
    },
    {
      "cell_type": "code",
      "execution_count": 3,
      "metadata": {
        "colab": {
          "base_uri": "https://localhost:8080/"
        },
        "id": "g5-16zXqGt6-",
        "outputId": "3944e9b7-bdca-4571-c810-6400926e504c"
      },
      "outputs": [
        {
          "output_type": "stream",
          "name": "stdout",
          "text": [
            "맑음\n",
            "['22434323', '20672966', '14633314', '22348247', '21300590', '20672961', '16273791', '20672962', '22308993', '20578114', '16310882', '20711858', '17804911', '20870015', '22250306', '20740841', '10504390', '16331547', '17891177', '13298290']\n",
            "['내일 맑음', '집 떠난 뒤 맑음(상&하) + 다이어리 세트', '5월 18일, 맑음', '기억맑음(전3권)', '여행은 맑음, 때때로 흐림', '집 떠난 뒤 맑음', '맑음이와 여우 할머니', '집 떠난 뒤 맑음', '오늘 내 기분은 맑음', '꽃보다 맑음', '오늘의 인사총무, 맑음', '맑음, 때때로 소나기', '꽃보다 맑음', '오늘의 날‘시’는 흐린 뒤 맑음', '제주는 맑음', '소설, 때때로 맑음', '꽃보다 맑음', '오늘의 인생 날씨, 차차 맑음', '세상은 맑음', '오늘의 나이, 대체로 맑음']\n",
            "['11700', '24840', '11520', '39200', '11250', '12420', '9000', '12420', '9900', '4500', '11700', '10350', '4500', '10500', '11520', '17820', '12600', '12600', '12150']\n"
          ]
        }
      ],
      "source": [
        "import requests\n",
        "from bs4 import BeautifulSoup\n",
        "import csv\n",
        "import time\n",
        "\n",
        "title=[]\n",
        "price=[]\n",
        "\n",
        "def get_data(url):\n",
        "  response=requests.get(url)\n",
        "  if response.status_code==200:\n",
        "    html=response.text\n",
        "    soup=BeautifulSoup(html, 'html.parser')\n",
        "\n",
        "    attrs={'class': 'thumb_type thumb_type2'}\n",
        "    book=soup.find_all('div', attrs=attrs)\n",
        "    book_one=soup.find('div', attrs=attrs)\n",
        "\n",
        "    bid=[]\n",
        "    for book_one in book:\n",
        "      b_id=book_one.a['href'].split('=')[1]\n",
        "      bid.append(b_id)\n",
        "    print(bid)\n",
        "\n",
        "    for book_one in book:\n",
        "      b_title=book_one.img['alt']\n",
        "      title.append(b_title)\n",
        "    print(title)\n",
        "\n",
        "    attrs={'class': 'price'}\n",
        "    b_price=soup.find_all('em', attrs=attrs)\n",
        "    for i in b_price:\n",
        "      price.append(i.get_text().split('원')[0])\n",
        "    print(price)\n",
        "\n",
        "    f = open(\"test.csv\", \"w\", encoding='utf-8')\n",
        "    writer = csv.writer(f)\n",
        "    test = [['bid', 'title', 'price']]\n",
        "    writer.writerows(test)\n",
        "\n",
        "    k=len(title)\n",
        "    for i in range(k-1):\n",
        "      row = [[bid[i], title[i], price[i]]]\n",
        "      writer.writerows(row)\n",
        "\n",
        "  else:\n",
        "    print('접속실패')\n",
        "    print(response.status_code)\n",
        "\n",
        "keyword=input()\n",
        "url=('https://book.naver.com/search/search.naver?sm=sta_hty.book&sug=&where=nexearch&query='+keyword)\n",
        "get_data(url)"
      ]
    }
  ]
}