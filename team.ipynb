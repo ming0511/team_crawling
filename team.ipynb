{
  "nbformat": 4,
  "nbformat_minor": 0,
  "metadata": {
    "colab": {
      "name": "team.ipynb",
      "provenance": [],
      "collapsed_sections": [],
      "authorship_tag": "ABX9TyNXedy/abCUuy0mxi6JT5P7",
      "include_colab_link": true
    },
    "kernelspec": {
      "name": "python3",
      "display_name": "Python 3"
    },
    "language_info": {
      "name": "python"
    }
  },
  "cells": [
    {
      "cell_type": "markdown",
      "metadata": {
        "id": "view-in-github",
        "colab_type": "text"
      },
      "source": [
        "<a href=\"https://colab.research.google.com/github/ming0511/team_crawling/blob/main/team.ipynb\" target=\"_parent\"><img src=\"https://colab.research.google.com/assets/colab-badge.svg\" alt=\"Open In Colab\"/></a>"
      ]
    },
    {
      "cell_type": "code",
      "source": [
        "!pip install beautifulsoup4\n",
        "!pip install requests"
      ],
      "metadata": {
        "colab": {
          "base_uri": "https://localhost:8080/"
        },
        "id": "eYRY8j34Gum_",
        "outputId": "c9cadfb8-4ddc-4fdf-882b-f33e9f2ba41a"
      },
      "execution_count": null,
      "outputs": [
        {
          "output_type": "stream",
          "name": "stdout",
          "text": [
            "Requirement already satisfied: beautifulsoup4 in /usr/local/lib/python3.7/dist-packages (4.6.3)\n",
            "Requirement already satisfied: requests in /usr/local/lib/python3.7/dist-packages (2.23.0)\n",
            "Requirement already satisfied: certifi>=2017.4.17 in /usr/local/lib/python3.7/dist-packages (from requests) (2021.10.8)\n",
            "Requirement already satisfied: chardet<4,>=3.0.2 in /usr/local/lib/python3.7/dist-packages (from requests) (3.0.4)\n",
            "Requirement already satisfied: urllib3!=1.25.0,!=1.25.1,<1.26,>=1.21.1 in /usr/local/lib/python3.7/dist-packages (from requests) (1.24.3)\n",
            "Requirement already satisfied: idna<3,>=2.5 in /usr/local/lib/python3.7/dist-packages (from requests) (2.10)\n"
          ]
        }
      ]
    },
    {
      "cell_type": "code",
      "execution_count": null,
      "metadata": {
        "colab": {
          "base_uri": "https://localhost:8080/"
        },
        "id": "g5-16zXqGt6-",
        "outputId": "00a70fb8-590e-4f3a-b618-55cd326c75f8"
      },
      "outputs": [
        {
          "output_type": "stream",
          "name": "stdout",
          "text": [
            "책\n",
            "['21376212', '22437288', '22445762', '22432910']\n",
            "['이것은 작은 브랜드를 위한 책', '헤르만 헤세의 책이라는 세계(개정판)(양장본 HardCover)', '책들의 부엌', '헤세의 책 읽기와 글쓰기']\n",
            "['14220', '19800', '13050', '13500']\n"
          ]
        }
      ],
      "source": [
        "import requests\n",
        "from bs4 import BeautifulSoup\n",
        "import csv\n",
        "import time\n",
        "\n",
        "title=[]\n",
        "publisher=[]\n",
        "price=[]\n",
        "\n",
        "def get_data(url):\n",
        "  response=requests.get(url)\n",
        "  if response.status_code==200:\n",
        "    html=response.text\n",
        "    soup=BeautifulSoup(html, 'html.parser')\n",
        "\n",
        "    attrs={'class': 'thumb_type thumb_type2'}\n",
        "    book=soup.find_all('div', attrs=attrs)\n",
        "    book_one=soup.find('div', attrs=attrs)\n",
        "\n",
        "    bid=[]\n",
        "    for book_one in book:\n",
        "      b_id=book_one.a['href'].split('=')[1]\n",
        "      bid.append(b_id)\n",
        "    #print(bid)\n",
        "\n",
        "    for book_one in book:\n",
        "      b_title=book_one.img['alt']\n",
        "      title.append(b_title)\n",
        "    #print(title)\n",
        "\n",
        "    attrs={'class': 'price'}\n",
        "    b_price=soup.find_all('em', attrs=attrs)\n",
        "    for i in b_price:\n",
        "      price.append(i.get_text().split('원')[0])\n",
        "    #print(price)\n",
        "\n",
        "  else:\n",
        "    print('접속실패')\n",
        "    print(response.status_code)\n",
        "\n",
        "keyword=input()\n",
        "url=('https://book.naver.com/search/search.naver?sm=sta_hty.book&sug=&where=nexearch&query='+keyword)\n",
        "get_data(url)"
      ]
    }
  ]
}