{
  "nbformat": 4,
  "nbformat_minor": 0,
  "metadata": {
    "colab": {
      "name": "team.ipynb",
      "provenance": [],
      "collapsed_sections": [],
      "include_colab_link": true
    },
    "kernelspec": {
      "name": "python3",
      "display_name": "Python 3"
    },
    "language_info": {
      "name": "python"
    }
  },
  "cells": [
    {
      "cell_type": "markdown",
      "metadata": {
        "id": "view-in-github",
        "colab_type": "text"
      },
      "source": [
        "<a href=\"https://colab.research.google.com/github/ming0511/team_crawling/blob/main/team.ipynb\" target=\"_parent\"><img src=\"https://colab.research.google.com/assets/colab-badge.svg\" alt=\"Open In Colab\"/></a>"
      ]
    },
    {
      "cell_type": "code",
      "source": [
        "!pip install beautifulsoup4\n",
        "!pip install requests\n",
        "!pip install pandas"
      ],
      "metadata": {
        "colab": {
          "base_uri": "https://localhost:8080/"
        },
        "id": "eYRY8j34Gum_",
        "outputId": "f47b32aa-e370-42e7-d83e-8a2b4b892a82"
      },
      "execution_count": null,
      "outputs": [
        {
          "output_type": "stream",
          "name": "stdout",
          "text": [
            "Requirement already satisfied: beautifulsoup4 in /usr/local/lib/python3.7/dist-packages (4.6.3)\n",
            "Requirement already satisfied: requests in /usr/local/lib/python3.7/dist-packages (2.23.0)\n",
            "Requirement already satisfied: certifi>=2017.4.17 in /usr/local/lib/python3.7/dist-packages (from requests) (2021.10.8)\n",
            "Requirement already satisfied: urllib3!=1.25.0,!=1.25.1,<1.26,>=1.21.1 in /usr/local/lib/python3.7/dist-packages (from requests) (1.24.3)\n",
            "Requirement already satisfied: chardet<4,>=3.0.2 in /usr/local/lib/python3.7/dist-packages (from requests) (3.0.4)\n",
            "Requirement already satisfied: idna<3,>=2.5 in /usr/local/lib/python3.7/dist-packages (from requests) (2.10)\n",
            "Requirement already satisfied: pandas in /usr/local/lib/python3.7/dist-packages (1.3.5)\n",
            "Requirement already satisfied: numpy>=1.17.3 in /usr/local/lib/python3.7/dist-packages (from pandas) (1.21.6)\n",
            "Requirement already satisfied: pytz>=2017.3 in /usr/local/lib/python3.7/dist-packages (from pandas) (2022.1)\n",
            "Requirement already satisfied: python-dateutil>=2.7.3 in /usr/local/lib/python3.7/dist-packages (from pandas) (2.8.2)\n",
            "Requirement already satisfied: six>=1.5 in /usr/local/lib/python3.7/dist-packages (from python-dateutil>=2.7.3->pandas) (1.15.0)\n"
          ]
        }
      ]
    },
    {
      "cell_type": "code",
      "execution_count": 70,
      "metadata": {
        "colab": {
          "base_uri": "https://localhost:8080/"
        },
        "id": "g5-16zXqGt6-",
        "outputId": "0112c25e-2a97-435f-a9b0-49f81ea10c87"
      },
      "outputs": [
        {
          "output_type": "stream",
          "name": "stdout",
          "text": [
            "맑음\n",
            "노후 맑음\n",
            "['예스24', '인터넷 교보문고', '알라딘', '영풍문고', '인터파크 도서', '도서11번가', '공부서점']\n"
          ]
        }
      ],
      "source": [
        "import requests\n",
        "from bs4 import BeautifulSoup\n",
        "import csv\n",
        "import time\n",
        "import pandas as pd\n",
        "import csv\n",
        "\n",
        "keyword=input()\n",
        "url=('https://book.naver.com/search/search.naver?sm=sta_hty.book&sug=&where=nexearch&query='+keyword)\n",
        "\n",
        "title=[]\n",
        "price=[]\n",
        "title_Q=[]\n",
        "\n",
        "def get_data(url):\n",
        "  response=requests.get(url)\n",
        "  if response.status_code==200:\n",
        "    html=response.text\n",
        "    soup=BeautifulSoup(html, 'html.parser')\n",
        "\n",
        "    attrs={'class': 'thumb_type thumb_type2'}\n",
        "    book=soup.find_all('div', attrs=attrs)\n",
        "    book_one=soup.find('div', attrs=attrs)\n",
        "\n",
        "    bid=[]\n",
        "    for book_one in book:\n",
        "      b_id=book_one.a['href'].split('=')[1]\n",
        "      bid.append(b_id)\n",
        "    #print(bid)\n",
        "\n",
        "    for book_one in book:\n",
        "      b_title=book_one.img['alt']\n",
        "      title.append(b_title)\n",
        "    #print(title)\n",
        "\n",
        "    f = open(\"test.csv\", \"w\", encoding='utf-8')\n",
        "    writer = csv.writer(f)\n",
        "    test = [['bid', 'title']]\n",
        "    writer.writerows(test)\n",
        "  \n",
        "    k=len(bid)\n",
        "    for i in range(k):\n",
        "      row = [[bid[i], title[i]]]\n",
        "      writer.writerows(row)\n",
        "    f.close()\n",
        "\n",
        "    m=0\n",
        "    title_q=input()\n",
        "    for i in range(len(title)):\n",
        "      if title_q==title[i]:\n",
        "        m=i\n",
        "        break\n",
        "\n",
        "    key=bid[m]\n",
        "    return key\n",
        "   \n",
        "  else:\n",
        "    print('접속실패')\n",
        "    print(response.status_code)\n",
        "\n",
        "\n",
        "key=get_data(url)\n",
        "\n",
        "\n",
        "url=('https://book.naver.com/bookdb/book_detail.naver?bid='+key)\n",
        "def get_data_2(url):\n",
        "  response=requests.get(url)\n",
        "  if response.status_code==200:\n",
        "    html=response.text\n",
        "    soup=BeautifulSoup(html, 'html.parser')\n",
        "\n",
        "    attrs={'class': 'thumb_type thumb_type2'}\n",
        "    book=soup.find_all('div', attrs=attrs)\n",
        "    book_one=soup.find('div', attrs=attrs)\n",
        "\n",
        "    attrs={'title': '새창'}\n",
        "    book_q=soup.find_all('a', attrs=attrs)\n",
        "\n",
        "    for i in book_q:\n",
        "      title_Q.append(i.get_text())\n",
        "\n",
        "    f = open(\"book.csv\", \"w\", encoding='utf-8')\n",
        "    writer = csv.writer(f)\n",
        "    book = [['title_Q']]\n",
        "    writer.writerows(book)\n",
        "\n",
        "    k=len(title_Q)\n",
        "    for i in range(k):\n",
        "      row = [[title_Q[i]]]\n",
        "      writer.writerows(row)\n",
        "    f.close()\n",
        "\n",
        "  else:\n",
        "    print('접속실패')\n",
        "    print(response.status_code)\n",
        "\n",
        "get_data_2(url)"
      ]
    }
  ]
}