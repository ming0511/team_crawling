{
  "nbformat": 4,
  "nbformat_minor": 0,
  "metadata": {
    "colab": {
      "name": "team.ipynb",
      "provenance": [],
      "collapsed_sections": [],
      "include_colab_link": true
    },
    "kernelspec": {
      "name": "python3",
      "display_name": "Python 3"
    },
    "language_info": {
      "name": "python"
    }
  },
  "cells": [
    {
      "cell_type": "markdown",
      "metadata": {
        "id": "view-in-github",
        "colab_type": "text"
      },
      "source": [
        "<a href=\"https://colab.research.google.com/github/ming0511/team_crawling/blob/main/team.ipynb\" target=\"_parent\"><img src=\"https://colab.research.google.com/assets/colab-badge.svg\" alt=\"Open In Colab\"/></a>"
      ]
    },
    {
      "cell_type": "code",
      "source": [
        "!pip install beautifulsoup4\n",
        "!pip install requests\n",
        "!pip install pandas"
      ],
      "metadata": {
        "colab": {
          "base_uri": "https://localhost:8080/"
        },
        "id": "eYRY8j34Gum_",
        "outputId": "f47b32aa-e370-42e7-d83e-8a2b4b892a82"
      },
      "execution_count": null,
      "outputs": [
        {
          "output_type": "stream",
          "name": "stdout",
          "text": [
            "Requirement already satisfied: beautifulsoup4 in /usr/local/lib/python3.7/dist-packages (4.6.3)\n",
            "Requirement already satisfied: requests in /usr/local/lib/python3.7/dist-packages (2.23.0)\n",
            "Requirement already satisfied: certifi>=2017.4.17 in /usr/local/lib/python3.7/dist-packages (from requests) (2021.10.8)\n",
            "Requirement already satisfied: urllib3!=1.25.0,!=1.25.1,<1.26,>=1.21.1 in /usr/local/lib/python3.7/dist-packages (from requests) (1.24.3)\n",
            "Requirement already satisfied: chardet<4,>=3.0.2 in /usr/local/lib/python3.7/dist-packages (from requests) (3.0.4)\n",
            "Requirement already satisfied: idna<3,>=2.5 in /usr/local/lib/python3.7/dist-packages (from requests) (2.10)\n",
            "Requirement already satisfied: pandas in /usr/local/lib/python3.7/dist-packages (1.3.5)\n",
            "Requirement already satisfied: numpy>=1.17.3 in /usr/local/lib/python3.7/dist-packages (from pandas) (1.21.6)\n",
            "Requirement already satisfied: pytz>=2017.3 in /usr/local/lib/python3.7/dist-packages (from pandas) (2022.1)\n",
            "Requirement already satisfied: python-dateutil>=2.7.3 in /usr/local/lib/python3.7/dist-packages (from pandas) (2.8.2)\n",
            "Requirement already satisfied: six>=1.5 in /usr/local/lib/python3.7/dist-packages (from python-dateutil>=2.7.3->pandas) (1.15.0)\n"
          ]
        }
      ]
    },
    {
      "cell_type": "code",
      "execution_count": 2,
      "metadata": {
        "colab": {
          "base_uri": "https://localhost:8080/"
        },
        "id": "g5-16zXqGt6-",
        "outputId": "2655d78a-21d0-44c3-9e06-2d697fd51c72"
      },
      "outputs": [
        {
          "output_type": "stream",
          "name": "stdout",
          "text": [
            "맑음\n",
            "          번호                        제목     가격\n",
            "0   20578114                    꽃보다 맑음   4500\n",
            "1   17804911                    꽃보다 맑음   4500\n",
            "2   16273791               맑음이와 여우 할머니   9000\n",
            "3   22308993               오늘 내 기분은 맑음   9900\n",
            "4   20711858               맑음, 때때로 소나기  10350\n",
            "5   20870015         오늘의 날‘시’는 흐린 뒤 맑음  10500\n",
            "6   21300590            여행은 맑음, 때때로 흐림  11250\n",
            "7   14633314                5월 18일, 맑음  11520\n",
            "8   22250306                    제주는 맑음  11520\n",
            "9   16310882              오늘의 인사총무, 맑음  11700\n",
            "10  22434323                     내일 맑음  11700\n",
            "11  13298290            오늘의 나이, 대체로 맑음  12150\n",
            "12  20672962                 집 떠난 뒤 맑음  12420\n",
            "13  16331547          오늘의 인생 날씨, 차차 맑음  12600\n",
            "14  17891177                    세상은 맑음  12600\n",
            "15  20740841                소설, 때때로 맑음  17820\n",
            "16  20672966  집 떠난 뒤 맑음(상&하) + 다이어리 세트  24840\n",
            "17  20642455             Bestlo 맑음 교정학  26600\n",
            "18  20861915             Bestlo 맑음 범죄학  30400\n",
            "19  22348247                 기억맑음(전3권)  39200\n"
          ]
        }
      ],
      "source": [
        "import requests\n",
        "from bs4 import BeautifulSoup\n",
        "import csv\n",
        "import time\n",
        "import pandas as pd\n",
        "import csv\n",
        "\n",
        "title=[]\n",
        "price=[]\n",
        "\n",
        "def get_data(url):\n",
        "  response=requests.get(url)\n",
        "  if response.status_code==200:\n",
        "    html=response.text\n",
        "    soup=BeautifulSoup(html, 'html.parser')\n",
        "\n",
        "    attrs={'class': 'thumb_type thumb_type2'}\n",
        "    book=soup.find_all('div', attrs=attrs)\n",
        "    book_one=soup.find('div', attrs=attrs)\n",
        "\n",
        "    bid=[]\n",
        "    for book_one in book:\n",
        "      b_id=book_one.a['href'].split('=')[1]\n",
        "      bid.append(b_id)\n",
        "    #print(bid)\n",
        "\n",
        "    for book_one in book:\n",
        "      b_title=book_one.img['alt']\n",
        "      title.append(b_title)\n",
        "    #print(title)\n",
        "\n",
        "    attrs={'class': 'price'}\n",
        "    b_price=soup.find_all('em', attrs=attrs)\n",
        "    \n",
        "    for i in b_price:\n",
        "      price.append(i.get_text().split('원')[0])\n",
        "\n",
        "    f = open(\"test.csv\", \"w\", encoding='utf-8')\n",
        "    writer = csv.writer(f)\n",
        "    test = [['bid', 'title', 'price']]\n",
        "    writer.writerows(test)\n",
        "\n",
        "    k=len(title)\n",
        "    for i in range(k-1):\n",
        "      row = [[bid[i], title[i], price[i]]]\n",
        "      writer.writerows(row)\n",
        "    \n",
        "    int_price=list(map(int,price))\n",
        "    df=pd.DataFrame([x for x in zip(bid,title,int_price)], columns=['번호', '제목' ,'가격'])\n",
        "    #print(price)\n",
        "\n",
        "    df=df.sort_values(by='가격')\n",
        "    df_reset=df.reset_index(drop=True)\n",
        "\n",
        "    df_reset.to_csv('book.csv')\n",
        "    print(df_reset)\n",
        "\n",
        "\n",
        "  else:\n",
        "    print('접속실패')\n",
        "    print(response.status_code)\n",
        "\n",
        "keyword=input()\n",
        "url=('https://book.naver.com/search/search.naver?sm=sta_hty.book&sug=&where=nexearch&query='+keyword)\n",
        "get_data(url)"
      ]
    }
  ]
}