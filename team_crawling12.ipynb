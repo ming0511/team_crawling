{
  "nbformat": 4,
  "nbformat_minor": 0,
  "metadata": {
    "colab": {
      "name": "team_crawling12.ipynb",
      "provenance": [],
      "collapsed_sections": [],
      "authorship_tag": "ABX9TyP4hDB2tdayn8h+efQi5QXJ",
      "include_colab_link": true
    },
    "kernelspec": {
      "name": "python3",
      "display_name": "Python 3"
    },
    "language_info": {
      "name": "python"
    }
  },
  "cells": [
    {
      "cell_type": "markdown",
      "metadata": {
        "id": "view-in-github",
        "colab_type": "text"
      },
      "source": [
        "<a href=\"https://colab.research.google.com/github/ming0511/team_crawling/blob/main/team_crawling12.ipynb\" target=\"_parent\"><img src=\"https://colab.research.google.com/assets/colab-badge.svg\" alt=\"Open In Colab\"/></a>"
      ]
    },
    {
      "cell_type": "code",
      "execution_count": null,
      "metadata": {
        "id": "TiZXRxoNtxGF"
      },
      "outputs": [],
      "source": [
        "!pip install selenium\n",
        "!apt-get update\n",
        "!apt install chromium-chromedriver\n",
        "!cp /usr/lib/chromium-browser/chromedriver /usr/bin"
      ]
    },
    {
      "cell_type": "code",
      "source": [
        "import time\n",
        "from selenium import webdriver\n",
        "from urllib.request import urlopen\n",
        "import pandas as pd\n",
        "\n",
        "options = webdriver.ChromeOptions()\n",
        "options.add_argument('--headless')\n",
        "options.add_argument('--no-sandbox')\n",
        "options.add_argument('--disable-dev-shm-usage')\n",
        "\n",
        "title_list=[]\n",
        "\n",
        "driver = webdriver.Chrome('chromedriver', options=options)\n",
        "driver.implicitly_wait(3)\n",
        "driver.get('http://www.riss.kr/PopularList.do')\n",
        "\n",
        "for i in range(1,11):\n",
        "  titles=driver.find_elements_by_css_selector(f'#table1 > tbody > tr:nth-child({i}) > td > a')\n",
        "  for title in titles:\n",
        "    if title.text =='논문 제목':\n",
        "      pass\n",
        "    elif len(title.text) !=0:\n",
        "      title_list.append(title.text)\n",
        "\n",
        "driver.quit()\n",
        "print(title_list)\n",
        "\n",
        "df=pd.DataFrame([x for x in zip(title_list)], columns=['제목'])\n",
        "       \n",
        "df=df.sort_values(by='제목')\n",
        "df_reset=df.reset_index(drop=True)\n",
        "df_reset.to_csv('riss.csv')\n",
        "\n",
        "\n",
        "\n",
        "\n"
      ],
      "metadata": {
        "colab": {
          "base_uri": "https://localhost:8080/"
        },
        "id": "6Q1W_lpZtzVR",
        "outputId": "3532d6d5-d0bd-4cb3-b43b-abfd507ce9d9"
      },
      "execution_count": 50,
      "outputs": [
        {
          "output_type": "stream",
          "name": "stderr",
          "text": [
            "/usr/local/lib/python3.7/dist-packages/ipykernel_launcher.py:18: DeprecationWarning: find_elements_by_css_selector is deprecated. Please use find_elements(by=By.CSS_SELECTOR, value=css_selector) instead\n"
          ]
        },
        {
          "output_type": "stream",
          "name": "stdout",
          "text": [
            "['미래 사회에서 메타버스 교육의 방향', '간호대학생의 전공만족도와 간호전문직관의 관계', '메타버스 개념과 유형에 관한 시론 : 가능세계 이론을 중심으로', \"아동학대는 '괴물 같은 부모'의 탓?\", 'MZ세대의 커뮤니케이션 고유 특성에 대한 각 세대별 반응 연구 -MZ세대, X세대, 베이비붐세대를 중심으로-', '기본권으로서의 장애인의 이동권', '코로나 19 시대 교육불평등 해소 정책에 대한 비판적 고찰', '비대면수업의 학습효과와 강의만족도에 따른 연구', '사형제도는 폐지되어야 하는가?', '촉법소년의 범죄예방을 위한 합리적 방안']\n"
          ]
        }
      ]
    }
  ]
}